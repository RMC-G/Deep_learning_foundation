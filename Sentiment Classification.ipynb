{
 "cells": [
  {
   "cell_type": "markdown",
   "metadata": {},
   "source": [
    "# Sentiment classification of movie reviews\n",
    "\n",
    "Given preprocessed data in the reviews and labels text files, develop a system for determining if a movie review is either positive or negative.\n",
    "\n",
    "## Step 1: \n",
    "Read the data into variables, and print out a list of a few reviews with their associated labels"
   ]
  },
  {
   "cell_type": "markdown",
   "metadata": {},
   "source": [
    "## Step 2:\n",
    "Use counters to store words associated with positive or negative reviews, by implementing a for loop which iterates through each review separating and storing individual words into their respective counter. \n",
    " _most_common()  : examines the most frequent words in the positive and negative reviews."
   ]
  },
  {
   "cell_type": "markdown",
   "metadata": {},
   "source": [
    "## Step 3: \n",
    "using common words which appear arbitrarily more than 100 times, determine the ratio of positive to negative uses.\n",
    "Words which appear more often in positive reviews will have a pos_to_neg ratio greater than 1, and words more common in negative reviews will have values closer to 0, while neutral words will have values close to 1.\n",
    "Convert all ratios to logarithms, using a different formula to return ratios for negative reviews. This should result in large positive values and large negative values while neutral words will be close to zero\n"
   ]
  },
  {
   "cell_type": "markdown",
   "metadata": {},
   "source": []
  }
 ],
 "metadata": {
  "kernelspec": {
   "display_name": "Python 3",
   "language": "python",
   "name": "python3"
  },
  "language_info": {
   "codemirror_mode": {
    "name": "ipython",
    "version": 3
   },
   "file_extension": ".py",
   "mimetype": "text/x-python",
   "name": "python",
   "nbconvert_exporter": "python",
   "pygments_lexer": "ipython3",
   "version": "3.7.6"
  }
 },
 "nbformat": 4,
 "nbformat_minor": 4
}
